{
 "cells": [
  {
   "cell_type": "markdown",
   "metadata": {
    "slideshow": {
     "slide_type": "slide"
    }
   },
   "source": [
    "\n",
    "# Useful tools when working with code development\n"
   ]
  },
  {
   "cell_type": "markdown",
   "metadata": {
    "slideshow": {
     "slide_type": "notes"
    }
   },
   "source": [
    "\n",
    "In this journal club I want to give a practical introduction to different tools that can be very useful when working with code\n"
   ]
  },
  {
   "cell_type": "markdown",
   "metadata": {
    "slideshow": {
     "slide_type": "slide"
    }
   },
   "source": [
    "\n",
    "## Overview\n",
    "\n",
    "- Version Control System (VCS)\n",
    "\n",
    "  - Git\n",
    "\n",
    "- Virtual environments\n",
    "\n",
    "  - Develop your code in isolation\n",
    "\n",
    "- Using a cookiecutter to set up your project\n",
    "\n",
    "- Continuos Integration (CI)\n",
    "\n",
    "  - Run your tests every time you push\n",
    "\n",
    "- Pre-commit hooks\n",
    "\n",
    "  - Run some test every time you commit\n",
    "\n",
    "- Documenting your code\n"
   ]
  },
  {
   "cell_type": "markdown",
   "metadata": {
    "slideshow": {
     "slide_type": "slide"
    }
   },
   "source": [
    "\n",
    "- Will be a bit python specific\n",
    "- Concepts can easily be transferred to other programming languages"
   ]
  },
  {
   "cell_type": "markdown",
   "metadata": {
    "slideshow": {
     "slide_type": "slide"
    }
   },
   "source": [
    "\n",
    "## Version Control System\n",
    "\n",
    "What’s a version control system (VCS)?\n",
    "\n",
    "![git](https://mixmastamyk.bitbucket.io/pro_soft_dev/_images/phd_final.png)\n"
   ]
  },
  {
   "cell_type": "markdown",
   "metadata": {
    "slideshow": {
     "slide_type": "slide"
    }
   },
   "source": [
    "\n",
    "## Version Control System\n",
    "\n",
    "What’s a version control system (VCS)?\n",
    "\n",
    "- tracks the history of changes\n",
    "\n",
    "Developers can review project history to find out:\n",
    "\n",
    "- Which changes were made?\n",
    "- Who made the changes?\n",
    "- When were the changes made?\n",
    "- Why were changes needed?\n",
    "\n",
    "The most used VCS is git, but there are also other ones like mercurial and svn.\n"
   ]
  },
  {
   "cell_type": "markdown",
   "metadata": {
    "slideshow": {
     "slide_type": "slide"
    }
   },
   "source": [
    "\n",
    "### Working locally and remotely\n",
    "\n",
    "- You can use git locally on you computer but it is a good idea to push your changes to a remote repository at e.g GitHub or Bitbucket.\n",
    "- This will also make sure that you have a backup of your code, and development\n",
    "- Also if you want to collaborate with others you need to set up a remote repo.\n",
    "![github](https://www.somagnews.com/wp-content/uploads/2020/04/75-e1586981465263.png)"
   ]
  },
  {
   "cell_type": "markdown",
   "metadata": {
    "slideshow": {
     "slide_type": "slide"
    }
   },
   "source": [
    "\n",
    "### Fixing bugs\n",
    "\n",
    "- If you introduce a bug in the code it is always possible to revert those changes when working with git.\n",
    "\n",
    "- If you want to add a new feature to the code it is therefore a good idea to create a branch where you develop you new feature. When the feature is ready and tested you can merge your new feature into the main branch (which is usually called `master`)\n",
    "\n",
    "- Try to always have a working `master` branch\n",
    "\n",
    "![git-branch](https://www.nobledesktop.com/image/gitresources/git-branches-merge.png)\n"
   ]
  },
  {
   "cell_type": "markdown",
   "metadata": {
    "slideshow": {
     "slide_type": "slide"
    }
   },
   "source": [
    "\n",
    "### More info about Git\n",
    "\n",
    "- GitHub guides: https://guides.github.com\n",
    "- GitPro book: https://git-scm.com/book/en/v2\n"
   ]
  },
  {
   "cell_type": "markdown",
   "metadata": {
    "slideshow": {
     "slide_type": "slide"
    }
   },
   "source": [
    "\n",
    "## Case study\n",
    "\n",
    "- Assume that you have FEniCS installed that uses numpy version 1.14.\n",
    "- Recently Scipy launches a new optimization package that you want to use for another project, but it requires numpy version 1.18 which will break some core functionality in FEniCS\n",
    "- What should you do?\n"
   ]
  },
  {
   "cell_type": "markdown",
   "metadata": {
    "slideshow": {
     "slide_type": "slide"
    }
   },
   "source": [
    "\n",
    "## Virtual environments\n",
    "\n",
    "What are virtual environments?\n"
   ]
  },
  {
   "cell_type": "markdown",
   "metadata": {
    "slideshow": {
     "slide_type": "slide"
    }
   },
   "source": [
    "\n",
    "## Virtual environments\n",
    "\n",
    "What are virtual environments?\n",
    "\n",
    "A way to develop and run your code in isolation\n"
   ]
  },
  {
   "cell_type": "markdown",
   "metadata": {
    "slideshow": {
     "slide_type": "slide"
    }
   },
   "source": [
    "\n",
    "### Problems solved by virtual environments\n",
    "\n",
    "- Working with different versions of the same library:\n",
    "\n",
    "With virtual environments you can make sure that you can have the specific versions of the dependencies you need.\n",
    "For example if you need a specific version of `numpy` while another code base that you work on needs another requires a different version then that could potentially be a problem.\n"
   ]
  },
  {
   "cell_type": "markdown",
   "metadata": {
    "slideshow": {
     "slide_type": "slide"
    }
   },
   "source": [
    "\n",
    "### Problems solved by virtual environments\n",
    "\n",
    "- Installing software without root privileges\n",
    "\n",
    "Virtual environment allows you to install software in a directory which does not require root privileges, which is essential if you want to install softwares on e.g saga.\n"
   ]
  },
  {
   "cell_type": "markdown",
   "metadata": {
    "slideshow": {
     "slide_type": "slide"
    }
   },
   "source": [
    "\n",
    "### Problems solved by virtual environments\n",
    "\n",
    "- Reproducibility\n",
    "\n",
    "You can make sure to always use the same environment, i.e the same packages with the same versions. This is good if you want other people to be able to reproduce your results. Imagine that you are working on a project and you need need to reinstall all the dependencies because you broke your computer (or something). Then it would be nice it is where a clean way of doing this.\n"
   ]
  },
  {
   "cell_type": "markdown",
   "metadata": {
    "slideshow": {
     "slide_type": "slide"
    }
   },
   "source": [
    "\n",
    "### Different ways of creating a virtual environment\n"
   ]
  },
  {
   "cell_type": "markdown",
   "metadata": {
    "slideshow": {
     "slide_type": "slide"
    }
   },
   "source": [
    "\n",
    "#### virtualenv\n",
    "\n",
    "**Pros**\n",
    "\n",
    "- Installations are relatively fast\n",
    "- You get the folder with your vritual enviroment in whatever folder you like\n",
    "\n",
    "**Cons**\n",
    "\n",
    "- python specific"
   ]
  },
  {
   "cell_type": "markdown",
   "metadata": {
    "slideshow": {
     "slide_type": "slide"
    }
   },
   "source": [
    "\n",
    "Install package for handling virtual enviroments\n",
    "\n",
    "```\n",
    "python -m pip install virtualenv\n",
    "```\n",
    "\n",
    "Create virtual enviroment\n",
    "\n",
    "```\n",
    "python -m virtualenv venv\n",
    "```\n",
    "\n",
    "(Alternatively you can use the built-in venv module)\n",
    "\n",
    "This will create a new directory `venv`.\n",
    "Activate virtual enviroment (Linux / Max OSX)\n",
    "\n",
    "```\n",
    "source venv/bin/activate\n",
    "```\n",
    "\n",
    "Now if you install any python packages, then they will only be stored in the folder `venv`.\n",
    "Deactivate environment\n",
    "\n",
    "```\n",
    "deactivate\n",
    "```\n"
   ]
  },
  {
   "cell_type": "markdown",
   "metadata": {
    "slideshow": {
     "slide_type": "slide"
    }
   },
   "source": [
    "\n",
    "#### conda environments\n",
    "\n",
    "**Pros**\n",
    "\n",
    "- Works with packages that you can install using conda\n",
    "- conda makes sure that packages are compatible (Preferable if you have packages that needs to be compiled)\n",
    "\n",
    "**Cons**\n",
    "\n",
    "- Installations are slower than `virtualenv``\n",
    "- You need `conda`\n",
    "- Your virtual enviroment is stored globally"
   ]
  },
  {
   "cell_type": "markdown",
   "metadata": {
    "slideshow": {
     "slide_type": "slide"
    }
   },
   "source": [
    "\n",
    "Create a new environment called `my_environment`\n",
    "\n",
    "```\n",
    "conda create -n my_environment\n",
    "```\n",
    "\n",
    "Activate environment\n",
    "\n",
    "```\n",
    "conda activate my_environment\n",
    "```\n",
    "\n",
    "Deactivate environment\n",
    "\n",
    "```\n",
    "conda deactivate\n",
    "```\n"
   ]
  },
  {
   "cell_type": "markdown",
   "metadata": {
    "slideshow": {
     "slide_type": "slide"
    }
   },
   "source": [
    "\n",
    "#### Docker\n",
    "\n",
    "**Pros**\n",
    "\n",
    "- Works with any packages that can be installed on Linux\n",
    "\n",
    "**Cons**\n",
    "\n",
    "- Takes up a lot of space\n",
    "- Is a bit more complicated to use\n",
    "\n",
    "Check out [https://github.com/ComputationalPhysiology/docker_workflows](https://github.com/ComputationalPhysiology/docker_workflows) for examples.\n"
   ]
  },
  {
   "cell_type": "markdown",
   "metadata": {
    "lines_to_next_cell": 2,
    "slideshow": {
     "slide_type": "slide"
    }
   },
   "source": [
    "\n",
    "## Starting a new project\n",
    "\n",
    "- When you start a new project you can use a [cookiecutter](https://cookiecutter.readthedocs.io/en/1.7.2/README.html)\n",
    "- A cookiecutter is program that you run that will ask you some questions and generate a template project for you.\n",
    "\n",
    "![cookie](https://raw.githubusercontent.com/cookiecutter/cookiecutter/3ac078356adf5a1a72042dfe72ebfa4a9cd5ef38/logo/cookiecutter_medium.png)"
   ]
  },
  {
   "cell_type": "markdown",
   "metadata": {
    "lines_to_next_cell": 0,
    "slideshow": {
     "slide_type": "slide"
    }
   },
   "source": [
    "\n",
    "- Create a new project using the cookiecutter\n",
    "- Create a remote repository\n",
    "- Add, commit and push the files to the remote repo\n"
   ]
  },
  {
   "cell_type": "markdown",
   "metadata": {},
   "source": [
    "\n"
   ]
  },
  {
   "cell_type": "markdown",
   "metadata": {
    "slideshow": {
     "slide_type": "slide"
    }
   },
   "source": [
    "\n",
    "## Continuous Integration\n",
    "\n",
    "Idea: Your tests are run every time you push your code to the remote repository.\n",
    "\n",
    "On GitHub the main CI system is called [GitHub Actions](https://github.com/features/actions) (free for private repos).\n",
    "\n",
    "There are also third party vendors, such as\n",
    "\n",
    "- [CircleCI](https://circleci.com)\n",
    "- [Travis](https://travis-ci.com)\n",
    "- [Azure Pipelines (Microsoft)](https://azure.microsoft.com/en-us/services/devops/pipelines/)\n",
    "\n",
    "For people using BitBucket you also have [Bitbucket pipelines](https://bitbucket.org/product/features/pipelines) (free for private repos)\n"
   ]
  },
  {
   "cell_type": "markdown",
   "metadata": {
    "slideshow": {
     "slide_type": "slide"
    }
   },
   "source": [
    "\n",
    "## What to test?\n",
    "\n",
    "- It is always a good idea to write some tests that will alert you if you commit some code that will break the core functionality.\n",
    "- It is also a good idea to test that everyone pushing to the repo follow the correct code style.\n"
   ]
  },
  {
   "cell_type": "markdown",
   "metadata": {
    "slideshow": {
     "slide_type": "slide"
    }
   },
   "source": [
    "\n",
    "## Pre-commit hooks\n",
    "\n",
    "Sometimes it is a good idea to test your code whenever you perform a commit.\n",
    "Otherwise you will have a lot of commits being fixes for previous commits.\n",
    "For this we can use someting called a [pre-commit hook](https://pre-commit.com)\n"
   ]
  },
  {
   "cell_type": "markdown",
   "metadata": {
    "slideshow": {
     "slide_type": "slide"
    }
   },
   "source": [
    "\n",
    "### Checking for correct code style using `flake8`\n",
    "\n",
    "```python\n",
    "def add(x,y):\n",
    "    return x+y\n",
    "```\n",
    "\n",
    "you should (according to PEP8), do\n",
    "\n",
    "```python\n",
    "def add(x, y):\n",
    "    return x + y\n",
    "```\n",
    "\n",
    "Having the same coding style makes your code more readable. Also for teams working on the same code it is good practice to agree on a common style.\n"
   ]
  },
  {
   "cell_type": "markdown",
   "metadata": {
    "slideshow": {
     "slide_type": "slide"
    }
   },
   "source": [
    "\n",
    "### Install pre-commit hook\n",
    "\n",
    "```\n",
    "python -m pip install pre-commit\n",
    "```\n",
    "\n",
    "- Create a `.pre-commit-config.yaml` file and put some [configurations in it](https://pre-commit.com/#2-add-a-pre-commit-configuration).\n",
    "- `pre-commit install`\n",
    "- Commit `.pre-commit-config.yaml` file to repo\n",
    "\n"
   ]
  },
  {
   "cell_type": "markdown",
   "metadata": {
    "slideshow": {
     "slide_type": "slide"
    }
   },
   "source": [
    "\n",
    "## Writing documentation\n",
    "\n",
    "If you want to make it easier for other people to use (or extend) your code you should write good documentation.\n",
    "Documentation is also good for \"the future you\".\n"
   ]
  },
  {
   "cell_type": "markdown",
   "metadata": {
    "slideshow": {
     "slide_type": "slide"
    }
   },
   "source": [
    "\n",
    "## Where should you write documentation?\n",
    "\n",
    "- Write docstrings (i.e strings together with the code that explains what the code does)\n",
    "- Write a README file containing installation instructions, what the software does, what is the license, who to contact if questions etc.\n"
   ]
  },
  {
   "cell_type": "markdown",
   "metadata": {
    "slideshow": {
     "slide_type": "slide"
    }
   },
   "source": [
    "\n",
    "## How to publish your documentation\n",
    "\n",
    "Two very good options\n",
    "\n",
    "- [Read the docs](https://readthedocs.org)\n",
    "\n",
    "  - This will automatically generate documentation every time you push to the repo\n",
    "\n",
    "- GitHub pages\n",
    "\n",
    "  - Publish documentation at git branch called `gh-pages` and it will publish it on `username.github.io/project`\n",
    "  - You can set up a [github action that does this automatically](https://github.com/peaceiris/actions-gh-pages).\n"
   ]
  }
 ],
 "metadata": {
  "celltoolbar": "Slideshow",
  "jupytext": {
   "formats": "ipynb,md"
  },
  "kernelspec": {
   "display_name": "Python 3",
   "language": "python",
   "name": "python3"
  },
  "language_info": {
   "codemirror_mode": {
    "name": "ipython",
    "version": 3
   },
   "file_extension": ".py",
   "mimetype": "text/x-python",
   "name": "python",
   "nbconvert_exporter": "python",
   "pygments_lexer": "ipython3",
   "version": "3.7.3"
  }
 },
 "nbformat": 4,
 "nbformat_minor": 2
}
